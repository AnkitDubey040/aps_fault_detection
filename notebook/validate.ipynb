{
 "cells": [
  {
   "cell_type": "markdown",
   "metadata": {},
   "source": [
    "we will validate whether the train and test data is in accordance with the aps data csv file or not using the Scipy library for 2 sample hypothesis test .\n",
    "\n",
    "So we compare features of both the samples and if they have same distribution then we can say thet they are okay to go . "
   ]
  },
  {
   "cell_type": "code",
   "execution_count": 5,
   "metadata": {},
   "outputs": [],
   "source": [
    "import numpy as np \n",
    "from scipy import stats\n",
    "rng = np.random.default_rng()\n",
    "sample1 = stats.uniform.rvs(size = 100 , random_state = rng)\n",
    "sample2 = stats.norm.rvs(size = 110,random_state=rng)\n",
    "response = stats.ks_2samp(sample1,sample2)"
   ]
  },
  {
   "cell_type": "code",
   "execution_count": 6,
   "metadata": {},
   "outputs": [
    {
     "data": {
      "text/plain": [
       "1.9839344857931964e-16"
      ]
     },
     "execution_count": 6,
     "metadata": {},
     "output_type": "execute_result"
    }
   ],
   "source": [
    "response.pvalue"
   ]
  },
  {
   "cell_type": "markdown",
   "metadata": {},
   "source": [
    "since p-value is very small we reject the null hypothesis"
   ]
  },
  {
   "cell_type": "markdown",
   "metadata": {},
   "source": [
    "### Anamoly in dataset :\n",
    "1. High Null values \n",
    "2. Missing Columns\n",
    "3. Very High Outliers\n",
    "4. In categorical Columns if we get a new category in train or test that was not in original dataset\n",
    "\n",
    "### Drifts in ML:\n",
    "\n",
    "1. Covariate shift: distribution of input features changes.\n",
    "2. Concept drift: the relationship between the target variable and input features changes.\n",
    "3. Model decay: drop in model performance due to drift.\n",
    "4. Data drift: any distributional change. This is sometimes used instead to refer to covariate shift specifically.\n",
    "5. The other terms (distribution shift, dataset shift) can typically refer to any of the concepts above or a combination of them.\n",
    "6. Target drift : The the output of target column changes during validation part. "
   ]
  },
  {
   "cell_type": "markdown",
   "metadata": {},
   "source": []
  }
 ],
 "metadata": {
  "kernelspec": {
   "display_name": "Python 3.8.10 64-bit",
   "language": "python",
   "name": "python3"
  },
  "language_info": {
   "codemirror_mode": {
    "name": "ipython",
    "version": 3
   },
   "file_extension": ".py",
   "mimetype": "text/x-python",
   "name": "python",
   "nbconvert_exporter": "python",
   "pygments_lexer": "ipython3",
   "version": "3.8.10"
  },
  "orig_nbformat": 4,
  "vscode": {
   "interpreter": {
    "hash": "e7370f93d1d0cde622a1f8e1c04877d8463912d04d973331ad4851f04de6915a"
   }
  }
 },
 "nbformat": 4,
 "nbformat_minor": 2
}
